{
 "cells": [
  {
   "cell_type": "code",
   "execution_count": null,
   "id": "82794281",
   "metadata": {},
   "outputs": [],
   "source": [
    "import pandas as pd\n",
    "import missingno as msno"
   ]
  },
  {
   "cell_type": "markdown",
   "id": "2140a41e",
   "metadata": {},
   "source": [
    "## Vérification de la situation des données manquantes"
   ]
  },
  {
   "cell_type": "code",
   "execution_count": null,
   "id": "00f7e361",
   "metadata": {},
   "outputs": [],
   "source": [
    "file_path = '/Users/ningyu/Desktop/Projets_data/ETL/0058127-231120084113126.csv'\n",
    "df = pd.read_csv(file_path, delimiter='\\t')"
   ]
  },
  {
   "cell_type": "code",
   "execution_count": null,
   "id": "26265da9",
   "metadata": {},
   "outputs": [],
   "source": [
    "msno.matrix(df)"
   ]
  },
  {
   "cell_type": "markdown",
   "id": "79032e06",
   "metadata": {},
   "source": [
    "## Traitement des données manquantes, conservation des colonnes valides"
   ]
  },
  {
   "cell_type": "code",
   "execution_count": null,
   "id": "07419f45",
   "metadata": {},
   "outputs": [],
   "source": [
    "from pyspark.sql import SparkSession\n",
    "spark = SparkSession\\\n",
    "        .builder\\\n",
    "        .appName('describe_data')\\\n",
    "        .getOrCreate()\n",
    "\n",
    "df = spark.read\\\n",
    "          .format('csv')\\\n",
    "          .option(\"header\", \"true\")\\\n",
    "          .option(\"mode\", \"FAILFAST\")\\\n",
    "          .option(\"inferSchema\", \"true\")\\\n",
    "          .option(\"sep\", \"\\t\")\\\n",
    "          .load(file_path)\n",
    "\n",
    "df.printSchema()"
   ]
  },
  {
   "cell_type": "markdown",
   "id": "84f6abfa",
   "metadata": {},
   "source": [
    "Selon le dictionnaire des données et la documentation sur la qualité des données, j'ai choisi les colonnes suivantes"
   ]
  },
  {
   "cell_type": "code",
   "execution_count": null,
   "id": "de515f96",
   "metadata": {},
   "outputs": [],
   "source": [
    "columns_to_keep = ['scientificName',\n",
    "                       'countryCode',\n",
    "                       'decimalLatitude',\n",
    "                       'decimalLongitude',\n",
    "                       'eventDate',\n",
    "                       'occurrenceStatus',\n",
    "                       'basisOfRecord',\n",
    "                       'datasetKey',\n",
    "                       'kingdom',\n",
    "                       'phylum',\n",
    "                       'class',\n",
    "                       'order',\n",
    "                       'family',\n",
    "                       'genus',\n",
    "                       'species',\n",
    "                       'taxonRank',\n",
    "                       'occurrenceID',\n",
    "                       'individualCount']\n",
    "df_clean_columns = df.select(columns_to_keep)\n",
    "df_cleaned = df_clean_columns.na.drop(subset=['occurrenceID', 'eventDate', 'decimalLatitude', 'decimalLongitude'])"
   ]
  },
  {
   "cell_type": "code",
   "execution_count": null,
   "id": "89a7d001",
   "metadata": {
    "scrolled": true
   },
   "outputs": [],
   "source": [
    "df_pd = df_cleaned.toPandas()\n",
    "msno.matrix(df_pd)"
   ]
  },
  {
   "cell_type": "markdown",
   "id": "1b353264",
   "metadata": {},
   "source": [
    "Pour les valeurs manquantes de l'IndividualCount, j'ai utilisé 1 comme substitut, car il y a des informations de coordonnées."
   ]
  },
  {
   "cell_type": "code",
   "execution_count": null,
   "id": "69768481",
   "metadata": {
    "scrolled": true
   },
   "outputs": [],
   "source": [
    "summary = df_pd.describe(include=\"all\").T\n",
    "summary"
   ]
  },
  {
   "cell_type": "markdown",
   "id": "c0ed0c8f",
   "metadata": {},
   "source": [
    "À partir des données statistiques, nous pouvons constater que :\n",
    "- scientificName n'est pas une valeur unique, il est nécessaire de filtrer uniquement les données pour \"Panthera leo (Linnaeus, 1758)\".\n",
    "- occurrenceID comporte des doublons et doit être dédupliqué.\n",
    "- Les données de coordonnées ne dépassent pas les valeurs extrêmes, elles n'ont donc pas besoin d'être traitées."
   ]
  },
  {
   "cell_type": "code",
   "execution_count": null,
   "id": "30243e7e",
   "metadata": {},
   "outputs": [],
   "source": [
    "value_counts = df_pd['scientificName'].value_counts()\n",
    "value_counts"
   ]
  },
  {
   "cell_type": "markdown",
   "id": "f4f955ad",
   "metadata": {},
   "source": [
    "D'après les données précédentes, \"Panthera leo (Linnaeus, 1758)\" ne représente qu'une partie des données."
   ]
  },
  {
   "cell_type": "code",
   "execution_count": null,
   "id": "673cb9b7",
   "metadata": {},
   "outputs": [],
   "source": [
    "lion_data = df_pd[df_pd['scientificName'] == 'Panthera leo (Linnaeus, 1758)']"
   ]
  },
  {
   "cell_type": "code",
   "execution_count": null,
   "id": "e8a705bb",
   "metadata": {},
   "outputs": [],
   "source": [
    "lion_data_unique = lion_data.drop_duplicates(subset='occurrenceID')"
   ]
  },
  {
   "cell_type": "code",
   "execution_count": null,
   "id": "3881fbd6",
   "metadata": {},
   "outputs": [],
   "source": [
    "summary = lion_data_unique.describe(include=\"all\").T\n",
    "summary"
   ]
  }
 ],
 "metadata": {
  "kernelspec": {
   "display_name": "Python 3 (ipykernel)",
   "language": "python",
   "name": "python3"
  },
  "language_info": {
   "codemirror_mode": {
    "name": "ipython",
    "version": 3
   },
   "file_extension": ".py",
   "mimetype": "text/x-python",
   "name": "python",
   "nbconvert_exporter": "python",
   "pygments_lexer": "ipython3",
   "version": "3.9.13"
  },
  "toc": {
   "base_numbering": 1,
   "nav_menu": {},
   "number_sections": true,
   "sideBar": true,
   "skip_h1_title": false,
   "title_cell": "Table of Contents",
   "title_sidebar": "Contents",
   "toc_cell": false,
   "toc_position": {},
   "toc_section_display": true,
   "toc_window_display": false
  }
 },
 "nbformat": 4,
 "nbformat_minor": 5
}
